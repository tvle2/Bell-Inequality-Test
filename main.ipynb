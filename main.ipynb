{
 "cells": [
  {
   "cell_type": "code",
   "execution_count": 7,
   "metadata": {},
   "outputs": [],
   "source": [
    "import numpy as np\n",
    "from qutip import basis, ket2dm, tensor, expect, fidelity, qeye\n",
    "\n",
    "# Define the states\n",
    "H = basis(2,0)\n",
    "V = basis(2,1)\n",
    "\n",
    "## Maximally entangled EPR pairs:\n",
    "phi_plus = (tensor(H, H) + tensor(V, V)).unit()\n",
    "\n",
    "## Maximally entangled EPR pairs with mixture:\n",
    "rho = 0.7*ket2dm(phi_plus) + 0.15*ket2dm(tensor(H, V)) + 0.15*ket2dm(tensor(V, H))\n",
    "\n",
    "## Non-maximally entangled pair:\n",
    "phi = (1/np.sqrt(5)*tensor(H,H) + 2/np.sqrt(5)*tensor(V,V)).unit()\n",
    "\n",
    "\n",
    "## Non-maximally entangled pair with mixture:\n",
    "rho_prime = 0.7*ket2dm(phi) + 0.15*ket2dm(tensor(H, V)) + 0.15*ket2dm(tensor(V, H))"
   ]
  },
  {
   "cell_type": "markdown",
   "metadata": {},
   "source": [
    "### Simulation of photon generation"
   ]
  },
  {
   "cell_type": "code",
   "execution_count": 2,
   "metadata": {},
   "outputs": [],
   "source": [
    "def simulate_detection(rate, eff, dark_rate, dead_time, totol_time):\n",
    "    t, counts = 0, 0\n",
    "    dead = False\n",
    "    while t < totol_time:\n",
    "        if dead:\n",
    "            t+= dead_time\n",
    "            dead = False\n",
    "        else:  \n",
    "            photon_interval = np.random.exponential(1/rate)\n",
    "            dark_interval = np.random.exponential(1/dark_rate)\n",
    "            dt = min(photon_interval, dark_interval)\n",
    "            t += dt\n",
    "            if np.random.rand() < eff:\n",
    "                counts += 1\n",
    "                dead = True\n",
    "    return counts"
   ]
  },
  {
   "cell_type": "markdown",
   "metadata": {},
   "source": [
    "### Basis selection and Bell measurement"
   ]
  },
  {
   "cell_type": "code",
   "execution_count": 9,
   "metadata": {},
   "outputs": [],
   "source": [
    "proj = lambda theta: (np.cos(theta)*H + np.sin(theta)*V).unit()\n",
    "\n",
    "def compute_expectation(rho, theta_a, theta_b):\n",
    "    A = ket2dm(proj(theta_a))\n",
    "    B = ket2dm(proj(theta_b))\n",
    "    AB = tensor(A, B)\n",
    "    E = expect(AB, rho) + expect(tensor(qeye(2) - A, qeye(2) - B), rho) - \\\n",
    "        expect(tensor(A, qeye(2) - B), rho) - expect(tensor(qeye(2) - A, B), rho)\n",
    "    return E"
   ]
  },
  {
   "cell_type": "markdown",
   "metadata": {},
   "source": [
    "### Compute metrics\n",
    "- Total Count Rate: Count all photons detected (including dark counts) per second\n",
    "- Coincidence Rate: Count events detected simultaneously (within 1ns window)\n",
    "- Fidelity: Calculate using QuTip\n",
    "- Bell S parameter"
   ]
  },
  {
   "cell_type": "code",
   "execution_count": 10,
   "metadata": {},
   "outputs": [
    {
     "name": "stdout",
     "output_type": "stream",
     "text": [
      "{'Phi+': {'Total Counts (Alice)': 1594.8333333333333, 'Totol Counts (Bob)': 1588.7666666666667, 'Coincidence Rate': 1588.7666666666667, 'Fidelity': np.float64(0.9999999999999997), 'Bell S Value': 2.82842712474619}, 'rho': {'Total Counts (Alice)': 1594.7333333333333, 'Totol Counts (Bob)': 1598.3, 'Coincidence Rate': 1594.7333333333333, 'Fidelity': np.float64(0.8366600265340758), 'Bell S Value': 1.5556349186104041}, 'phi': {'Total Counts (Alice)': 1585.8666666666666, 'Totol Counts (Bob)': 1594.8, 'Coincidence Rate': 1585.8666666666666, 'Fidelity': np.float64(0.9486832980505141), 'Bell S Value': 2.5455844122715723}, 'rho_prime': {'Total Counts (Alice)': 1581.1333333333334, 'Totol Counts (Bob)': 1581.4666666666667, 'Coincidence Rate': 1581.1333333333334, 'Fidelity': np.float64(0.7937253956848632), 'Bell S Value': 1.357645019878172}}\n"
     ]
    }
   ],
   "source": [
    "states = {'Phi+': phi_plus, 'rho': rho, 'phi': phi, 'rho_prime': rho_prime}\n",
    "results = {}\n",
    "\n",
    "for name, state in states.items():\n",
    "    counts_A = simulate_detection(15000, 0.1, 1000, 4e-6, 30)\n",
    "    counts_B = simulate_detection(15000, 0.1, 1000, 4e-6, 30)\n",
    "\n",
    "    coincidence_rate = min(counts_A, counts_B) /30\n",
    "\n",
    "    F = fidelity(state, ket2dm(phi_plus))\n",
    "    E1 = compute_expectation(state, 0, np.pi/8) # 0, 22.5\n",
    "    E2 = compute_expectation(state, 0, 3*np.pi/8) # 0, 67.5\n",
    "    E3 = compute_expectation(state, np.pi/4, np.pi/8) # 45, 22.5\n",
    "    E4 = compute_expectation(state, np.pi/4, 3*np.pi/8) # 45, 67.5\n",
    "\n",
    "    S = E1 - E2 + E3 + E4\n",
    "\n",
    "    results[name] = {\n",
    "        'Total Counts (Alice)': counts_A/30,\n",
    "        'Totol Counts (Bob)': counts_B/30,\n",
    "        'Coincidence Rate': coincidence_rate,\n",
    "        'Fidelity': F,\n",
    "        'Bell S Value': S\n",
    "    }\n",
    "\n",
    "print(results)"
   ]
  }
 ],
 "metadata": {
  "kernelspec": {
   "display_name": "QT",
   "language": "python",
   "name": "python3"
  },
  "language_info": {
   "codemirror_mode": {
    "name": "ipython",
    "version": 3
   },
   "file_extension": ".py",
   "mimetype": "text/x-python",
   "name": "python",
   "nbconvert_exporter": "python",
   "pygments_lexer": "ipython3",
   "version": "3.10.16"
  }
 },
 "nbformat": 4,
 "nbformat_minor": 2
}
